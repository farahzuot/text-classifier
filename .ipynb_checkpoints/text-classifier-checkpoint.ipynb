{
 "cells": [
  {
   "cell_type": "code",
   "execution_count": 1,
   "metadata": {},
   "outputs": [],
   "source": [
    "import pandas as pd"
   ]
  },
  {
   "cell_type": "code",
   "execution_count": 36,
   "metadata": {},
   "outputs": [
    {
     "name": "stdout",
     "output_type": "stream",
     "text": [
      "                                            sentence  label  source\n",
      "2                             Great for the jawbone.      1  amazon\n",
      "3  Tied to charger for conversations lasting more...      0  amazon\n",
      "4                                  The mic is great.      1  amazon\n",
      "5  I have to jiggle the plug to get it to line up...      0  amazon\n",
      "6  If you have several dozen or several hundred c...      0  amazon\n"
     ]
    }
   ],
   "source": [
    "filepath_dict = {'amazon' : 'assets/amazon_cells_labelled.txt',\n",
    "                'yelp' : 'assets/yelp_labelled.txt',\n",
    "                'imdb' : 'assets/imdb_labelled.txt'}\n",
    "\n",
    "df_list = []\n",
    "for source, filepath in filepath_dict.items():\n",
    "    df = pd.read_csv(filepath,names=['sentence','label'],sep='\\t')\n",
    "    df['source'] = source\n",
    "    df_list.append(df)\n",
    "\n",
    "print(df_list[0].iloc[2:7])"
   ]
  },
  {
   "cell_type": "code",
   "execution_count": null,
   "metadata": {},
   "outputs": [],
   "source": []
  }
 ],
 "metadata": {
  "kernelspec": {
   "display_name": "Python 3",
   "language": "python",
   "name": "python3"
  },
  "language_info": {
   "codemirror_mode": {
    "name": "ipython",
    "version": 3
   },
   "file_extension": ".py",
   "mimetype": "text/x-python",
   "name": "python",
   "nbconvert_exporter": "python",
   "pygments_lexer": "ipython3",
   "version": "3.9.0"
  }
 },
 "nbformat": 4,
 "nbformat_minor": 4
}
