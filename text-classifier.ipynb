{
 "cells": [
  {
   "cell_type": "code",
   "execution_count": 1,
   "metadata": {},
   "outputs": [],
   "source": [
    "import pandas as pd"
   ]
  },
  {
   "cell_type": "code",
   "execution_count": 37,
   "metadata": {},
   "outputs": [],
   "source": [
    "filepath_dict = {'amazon' : 'assets/amazon_cells_labelled.txt',\n",
    "                'yelp' : 'assets/yelp_labelled.txt',\n",
    "                'imdb' : 'assets/imdb_labelled.txt'}\n",
    "\n",
    "df_list = []\n",
    "for source, filepath in filepath_dict.items():\n",
    "    df = pd.read_csv(filepath,names=['sentence','label'],sep='\\t')\n",
    "    df['source'] = source\n",
    "    df_list.append(df)\n",
    "\n",
    "# print(df_list[0].iloc[2:7])"
   ]
  },
  {
   "cell_type": "code",
   "execution_count": 38,
   "metadata": {},
   "outputs": [],
   "source": [
    "sen = ['John likes ice cream', 'John hates chocolate.']"
   ]
  },
  {
   "cell_type": "code",
   "execution_count": 57,
   "metadata": {},
   "outputs": [
    {
     "data": {
      "text/plain": [
       "{'John': 0, 'likes': 5, 'ice': 4, 'cream': 2, 'hates': 3, 'chocolate': 1}"
      ]
     },
     "execution_count": 57,
     "metadata": {},
     "output_type": "execute_result"
    }
   ],
   "source": [
    "from sklearn.feature_extraction.text import CountVectorizer\n",
    "vectorizer = CountVectorizer(min_df=1 , lowercase=False)\n",
    "vectorizer.fit(sen)\n",
    "vectorizer.vocabulary_"
   ]
  },
  {
   "cell_type": "code",
   "execution_count": 58,
   "metadata": {},
   "outputs": [
    {
     "data": {
      "text/plain": [
       "array([[1, 0, 1, 0, 1, 1],\n",
       "       [1, 1, 0, 1, 0, 0]])"
      ]
     },
     "execution_count": 58,
     "metadata": {},
     "output_type": "execute_result"
    }
   ],
   "source": [
    "vectorizer.transform(sen).toarray()"
   ]
  },
  {
   "cell_type": "code",
   "execution_count": 91,
   "metadata": {},
   "outputs": [
    {
     "data": {
      "text/plain": [
       "array(['Wow... Loved this place.', 'Crust is not good.',\n",
       "       'Not tasty and the texture was just nasty.',\n",
       "       'Stopped by during the late May bank holiday off Rick Steve recommendation and loved it.',\n",
       "       'The selection on the menu was great and so were the prices.'],\n",
       "      dtype=object)"
      ]
     },
     "execution_count": 91,
     "metadata": {},
     "output_type": "execute_result"
    }
   ],
   "source": [
    "from sklearn.model_selection import train_test_split\n",
    "df_yelp = df_list[1]\n",
    "df_amazon = df_list[0]\n",
    "df_imdb = df_list[2]\n",
    "\n",
    "sent = df_yelp['sentence'].values\n",
    "sentZero = df_amazon['sentence'].values\n",
    "sentTwo = df_imdb['sentence'].values\n",
    "\n",
    "sent[0:5]"
   ]
  },
  {
   "cell_type": "code",
   "execution_count": 92,
   "metadata": {},
   "outputs": [
    {
     "data": {
      "text/plain": [
       "array([1, 0, 0, 1, 1])"
      ]
     },
     "execution_count": 92,
     "metadata": {},
     "output_type": "execute_result"
    }
   ],
   "source": [
    "y = df_yelp['label'].values\n",
    "yZero = df_amazon['label'].values\n",
    "yTwo = df_imdb['label'].values\n",
    "\n",
    "y[0:5]"
   ]
  },
  {
   "cell_type": "code",
   "execution_count": 74,
   "metadata": {},
   "outputs": [],
   "source": [
    "sent_train, sent_test, y_train, y_test = train_test_split(sent, y , test_size=0.25 , random_state=1000)"
   ]
  },
  {
   "cell_type": "code",
   "execution_count": 78,
   "metadata": {},
   "outputs": [
    {
     "data": {
      "text/plain": [
       "<750x1938 sparse matrix of type '<class 'numpy.int64'>'\n",
       "\twith 7453 stored elements in Compressed Sparse Row format>"
      ]
     },
     "execution_count": 78,
     "metadata": {},
     "output_type": "execute_result"
    }
   ],
   "source": [
    "vectorizer.fit(sent_train)\n",
    "X_train = vectorizer.transform(sent_train)\n",
    "X_test = vectorizer.transform(sent_test)\n",
    "X_train"
   ]
  },
  {
   "cell_type": "code",
   "execution_count": 89,
   "metadata": {},
   "outputs": [
    {
     "name": "stdout",
     "output_type": "stream",
     "text": [
      "yelp score : 0.772\n"
     ]
    }
   ],
   "source": [
    "from sklearn.linear_model import LogisticRegression\n",
    "classifier = LogisticRegression()\n",
    "classifier.fit(X_train,y_train)\n",
    "score = classifier.score(X_test,y_test)\n",
    "print('yelp score :',score)"
   ]
  },
  {
   "cell_type": "code",
   "execution_count": 96,
   "metadata": {},
   "outputs": [
    {
     "name": "stdout",
     "output_type": "stream",
     "text": [
      "amazon score : 0.792\n"
     ]
    }
   ],
   "source": [
    "sentZero_train, sentZero_test, yZero_train, yZero_test = train_test_split(sentZero, yZero , test_size=0.25 , random_state=1000)\n",
    "vectorizer.fit(sentZero_train)\n",
    "XZero_train = vectorizer.transform(sentZero_train)\n",
    "XZero_test = vectorizer.transform(sentZero_test)\n",
    "classifier.fit(XZero_train,yZero_train)\n",
    "score = classifier.score(XZero_test,yZero_test)\n",
    "print('amazon score :',score)"
   ]
  },
  {
   "cell_type": "code",
   "execution_count": 97,
   "metadata": {},
   "outputs": [
    {
     "name": "stdout",
     "output_type": "stream",
     "text": [
      "imdb score : 0.732620320855615\n"
     ]
    }
   ],
   "source": [
    "sentTwo_train, sentTwo_test, yTwo_train, yTwo_test = train_test_split(sentTwo, yTwo , test_size=0.25 , random_state=1000)\n",
    "vectorizer.fit(sentTwo_train)\n",
    "XTwo_train = vectorizer.transform(sentTwo_train)\n",
    "XTwo_test = vectorizer.transform(sentTwo_test)\n",
    "classifier.fit(XTwo_train,yTwo_train)\n",
    "score = classifier.score(XTwo_test,yTwo_test)\n",
    "print('imdb score :',score)"
   ]
  },
  {
   "cell_type": "code",
   "execution_count": null,
   "metadata": {},
   "outputs": [],
   "source": []
  }
 ],
 "metadata": {
  "kernelspec": {
   "display_name": "Python 3",
   "language": "python",
   "name": "python3"
  },
  "language_info": {
   "codemirror_mode": {
    "name": "ipython",
    "version": 3
   },
   "file_extension": ".py",
   "mimetype": "text/x-python",
   "name": "python",
   "nbconvert_exporter": "python",
   "pygments_lexer": "ipython3",
   "version": "3.9.0"
  }
 },
 "nbformat": 4,
 "nbformat_minor": 4
}
